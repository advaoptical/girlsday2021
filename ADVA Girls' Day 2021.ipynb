{
 "cells": [
  {
   "cell_type": "markdown",
   "metadata": {
    "id": "hp-W8t17qunx"
   },
   "source": [
    "# ADVA Girls' Day 2021\n",
    "\n"
   ]
  },
  {
   "cell_type": "markdown",
   "metadata": {
    "id": "nWYCb5LD_rNj"
   },
   "source": [
    "## Von künstlicher Intelligenz und lernenden Maschinen\n"
   ]
  },
  {
   "cell_type": "markdown",
   "metadata": {
    "id": "9HiFFUSKzoCM"
   },
   "source": [
    "Sie ist heute allgegenwärtig,\n",
    "und Ihr habt wahrscheinlich\n",
    "auch schon oft von ihr gehört.\n",
    "In Filmen und Serien,\n",
    "in Nachrichten\n",
    "und sozialen Medien,\n",
    "überall wird zunehmend\n",
    "von AI: Artificial Intelligence -\n",
    "deutsch KI: Künstliche Intelligenz -\n",
    "gesprochen.\n",
    "Es werden ihre bahnbrechenden Einsatzmöglichkeiten gezeigt,\n",
    "aber es wird auch vor ihren Gefahren gewarnt."
   ]
  },
  {
   "cell_type": "markdown",
   "metadata": {
    "id": "iflUpqlhYrVL"
   },
   "source": [
    "KI ist bereits zum Streitpunkt politischer Debatten\n",
    "und zum entscheidenden Wirtschaftsfaktor geworden.\n",
    "Sie hält Einzug\n",
    "in die alltägliche Arbeits- und Freizeitwelt.\n",
    "Es scheint dabei,\n",
    "als sei KI-Technologie etwas Neues,\n",
    "Unberechenbares.\n",
    "Das täuscht,\n",
    "denn ihre Geschichte begann\n",
    "schon vor über 60 Jahren,\n",
    "und seit dem wurde sie\n",
    "kontinuierlich weiterentwickelt.\n",
    "An den Grundprinzipen von damals\n",
    "hat sich bis heute nichts geändert."
   ]
  },
  {
   "cell_type": "markdown",
   "metadata": {
    "id": "6GicBso8YvnL"
   },
   "source": [
    "Künstliche Intelligenz ist\n",
    "ein Teilgebiet der Informatik,\n",
    "also der Computerwissenschaft -\n",
    "englisch Computer Science.\n",
    "Forscher versuchen damit,\n",
    "menschliche Intelligenz am Computer nachzuahmen.\n",
    "Sie entwickeln Computerprogramme,\n",
    "die eigenständig Muster und Zusammenhänge\n",
    "in großen Datenmengen finden\n",
    "und daraus Schlussfolgerungen ziehen\n",
    "und Vorhersagen treffen.\n",
    "Diese dienen den Menschen\n",
    "entweder als Empfehlungen\n",
    "für ihr weiteres Handeln,\n",
    "oder der Computer\n",
    "führt eigenständige Handlungen aus."
   ]
  },
  {
   "cell_type": "markdown",
   "metadata": {
    "id": "veibGhg9YyTu"
   },
   "source": [
    "Um richtige Ergebnisse zu liefern,\n",
    "werden die KI-Programme\n",
    "auf ihre jeweiligen Anwendungsfälle trainiert.\n",
    "Dieser Bereich heißt ML: Machine Learning -\n",
    "deutsch Maschinelles Lernen.\n",
    "Den Programmen werden Datenmengen\n",
    "mit vorgefertigten Lösungen übergeben.\n",
    "Sie probieren eigenständig\n",
    "so lange verschiedene mathematische Operationen\n",
    "mit den Daten aus,\n",
    "bis sie irgendwann auf die richtigen\n",
    "Lösungen kommen.\n",
    "Trial and Error -\n",
    "Versuch und Irrtum.\n",
    "Das gelernte Wissen,\n",
    "welche Operationen zum Ziel führen,\n",
    "wenden sie dann immer wieder\n",
    "auf neue Daten an."
   ]
  },
  {
   "cell_type": "markdown",
   "metadata": {
    "id": "Q5Uk3FtsY1Jp"
   },
   "source": [
    "Wir werden gleich versuchen,\n",
    "einen ML-Vorgang zu verstehen,\n",
    "indem wir selbst einen solchen Lernprozess durchlaufen.\n",
    "Dazu schreiben wir ein kleines Computerprogramm\n",
    "mit Python..."
   ]
  },
  {
   "cell_type": "markdown",
   "metadata": {
    "id": "c6SQNBySzkrB"
   },
   "source": [
    "## Doch was ist Python?"
   ]
  },
  {
   "cell_type": "markdown",
   "metadata": {
    "id": "qA2nxdS9__Xh"
   },
   "source": [
    "[Python](https://de.wikipedia.org/wiki/Python_(Programmiersprache))\n",
    "ist eine Programmiersprache.\n",
    "Ihr gebt dem Computer damit Anweisungen.\n",
    "Das sind Befehle,\n",
    "Bedingungen,\n",
    "unter denen er bestimmte Befehle ausführen\n",
    "oder nicht ausführen soll,\n",
    "und Beschreibungen,\n",
    "wie er auf Eingaben reagieren soll.\n",
    "Aus Kombinationen vieler solcher Anweisungen\n",
    "entstehen Computerprogramme."
   ]
  },
  {
   "cell_type": "markdown",
   "metadata": {
    "id": "BXX5uhBEZOIc"
   },
   "source": [
    "Python ist außerdem eine Skriptsprache.\n",
    "Im Gegensatz zu einer Compilersprache\n",
    "muss ein Python-Skript\n",
    "nicht erst wie ein Buch\n",
    "vollständig in Maschinensprache übersetzt werden.\n",
    "Es wird von einem Interpreter ausgeführt,\n",
    "der wie eine Art Simultanübersetzer\n",
    "(englisch auch Interpreter genannt)\n",
    "das Skript beim Lesen\n",
    "Anweisung für Anweisung übersetzt\n",
    "und direkt an den Prozessor des Computers\n",
    "weiterleitet."
   ]
  },
  {
   "cell_type": "markdown",
   "metadata": {
    "id": "DYjzDISOZR_a"
   },
   "source": [
    "Python ist eine freie\n",
    "und offene Programmiersprache.\n",
    "Der Python-Interpreter ist FOSS -\n",
    "Free and OpenSource Software.\n",
    "Er steht jedem kostenlos zur Verfügung,\n",
    "und jeder kann sich\n",
    "an der Weiterentwicklung\n",
    "beteiligen.\n",
    "Deswegen ist Python vor allem\n",
    "in der Wissenschaft sehr beliebt."
   ]
  },
  {
   "cell_type": "markdown",
   "metadata": {
    "id": "BN5JwCfKZU5r"
   },
   "source": [
    "Das Interpretieren\n",
    "macht ein Programm langsamer\n",
    "als ein vollständig im Voraus übersetztes\n",
    "bzw. compiliertes Programm\n",
    "(von englisch _(to) compile_).\n",
    "Dafür kann man interaktiv programmieren,\n",
    "also Schritt für Schritt\n",
    "Anweisungen ausprobieren\n",
    "und jederzeit ändern,\n",
    "während das Programm schon läuft."
   ]
  },
  {
   "cell_type": "markdown",
   "metadata": {
    "id": "tyB-r4URZYO5"
   },
   "source": [
    "Um bspw. mathematische Berechnungen auszuführen,\n",
    "gebt Ihr sie einfach\n",
    "wie auf einem Taschenrechner\n",
    "ein:"
   ]
  },
  {
   "cell_type": "code",
   "execution_count": null,
   "metadata": {
    "colab": {
     "base_uri": "https://localhost:8080/"
    },
    "id": "Cbcj0cdlZcmA",
    "outputId": "4d4f8add-2848-48e9-92fc-4c43a6c9845f"
   },
   "outputs": [],
   "source": [
    "2 + 3"
   ]
  },
  {
   "cell_type": "markdown",
   "metadata": {
    "id": "XpuOl-YxaDul"
   },
   "source": [
    "Auch in Python gilt Vorrang von Operatoren:"
   ]
  },
  {
   "cell_type": "code",
   "execution_count": null,
   "metadata": {
    "colab": {
     "base_uri": "https://localhost:8080/"
    },
    "id": "eJZrCF1FZ_cC",
    "outputId": "a494c265-9827-49f7-c647-b2f0b4893df6"
   },
   "outputs": [],
   "source": [
    "2 + 3 * 4 # multiplication precedes addition ==> not 5 * 4"
   ]
  },
  {
   "cell_type": "markdown",
   "metadata": {
    "id": "f7BHnGgGZ59p"
   },
   "source": [
    "Wie Ihr oben seht, gilt alles nach einem # als Kommentar. Es wird also nicht vom Interpreter ausgeführt."
   ]
  },
  {
   "cell_type": "markdown",
   "metadata": {
    "id": "Wz2wc9qVZ2a7"
   },
   "source": [
    "Dividiert wird mit einem Schrägstrich:"
   ]
  },
  {
   "cell_type": "code",
   "execution_count": null,
   "metadata": {
    "colab": {
     "base_uri": "https://localhost:8080/"
    },
    "id": "MaZ8DGOjZ0po",
    "outputId": "985e1683-136c-46ec-e61c-74789702b268"
   },
   "outputs": [],
   "source": [
    "3 / 4"
   ]
  },
  {
   "cell_type": "markdown",
   "metadata": {
    "id": "dteLErD8ZsGV"
   },
   "source": [
    "Und Potenzen, also $a^b$, schreibt Ihr so:"
   ]
  },
  {
   "cell_type": "code",
   "execution_count": null,
   "metadata": {
    "colab": {
     "base_uri": "https://localhost:8080/"
    },
    "id": "b4LHZ-OLZoC9",
    "outputId": "c4d30e32-cb16-4fef-f124-0efcbbe3f75f"
   },
   "outputs": [],
   "source": [
    "2 ** 3"
   ]
  },
  {
   "cell_type": "markdown",
   "metadata": {
    "id": "1LCSNw7caVww"
   },
   "source": [
    "Jeden Wert und jedes Ergebnis könnt Ihr wie in der Mathematik einer Variable zuweisen. Ihr schreibt jedoch nicht einfach nur $a, b, c, ... x, y, z$, sondern verwendet aussagekräftige Worte oder Wortgruppen, so dass auch jeder etwas damit anfangen kann:\n",
    "\n",
    "\n",
    "\n",
    "\n"
   ]
  },
  {
   "cell_type": "code",
   "execution_count": null,
   "metadata": {
    "id": "4qsUByQnaj3_"
   },
   "outputs": [],
   "source": [
    "seconds_in_a_minute = 60\n",
    "minutes_in_an_hour = 60\n",
    "hours_in_a_day = 24\n",
    "days_in_a_week = 7"
   ]
  },
  {
   "cell_type": "markdown",
   "metadata": {
    "id": "mVTk65ezag7F"
   },
   "source": [
    "Und wieviele Sekunden hat eine Woche?"
   ]
  },
  {
   "cell_type": "code",
   "execution_count": null,
   "metadata": {
    "colab": {
     "base_uri": "https://localhost:8080/"
    },
    "id": "fKFyQGXXaeNr",
    "outputId": "7dceef8a-86d9-4de1-b107-5c759cd8928f"
   },
   "outputs": [],
   "source": [
    "seconds_in_a_week = seconds_in_a_minute * minutes_in_an_hour * hours_in_a_day * days_in_a_week\n",
    "seconds_in_a_week"
   ]
  },
  {
   "cell_type": "markdown",
   "metadata": {
    "id": "eBVlXR2Qaazg"
   },
   "source": [
    "Wie Ihr oben seht, müsst Ihr nach einer Zuweisung die Variable noch einmal getrennt angeben, um ihren Wert anzeigen zu lassen."
   ]
  },
  {
   "cell_type": "markdown",
   "metadata": {
    "id": "gm8FBhMwaYGM"
   },
   "source": [
    "Wollt Ihr eine Wurzel ziehen oder trigonometrische Funktionen oder sonstige höhere mathematische Operationen ausführen, dann importiert Ihr eine Bibliothek:"
   ]
  },
  {
   "cell_type": "code",
   "execution_count": null,
   "metadata": {
    "id": "y5r1emvEa7ei"
   },
   "outputs": [],
   "source": [
    "import numpy as np # np is a shortcut for further use"
   ]
  },
  {
   "cell_type": "markdown",
   "metadata": {
    "id": "Kx6Ot5PSa846"
   },
   "source": [
    "Programmier-Bibliotheken sind Sammlungen von vorgefertigten Anweisungen, und [numpy](https://numpy.org) steht für _**Num**erical computing with **Py**thon_. Enthalten sind Funktionen..."
   ]
  },
  {
   "cell_type": "code",
   "execution_count": null,
   "metadata": {
    "colab": {
     "base_uri": "https://localhost:8080/"
    },
    "id": "FJa0qw16bB-T",
    "outputId": "3bd3d8ae-c672-4b2c-a272-676c235b6abc"
   },
   "outputs": [],
   "source": [
    "np.sqrt(2) # square root"
   ]
  },
  {
   "cell_type": "markdown",
   "metadata": {
    "id": "k1pFO2rtbFzF"
   },
   "source": [
    "... und Konstanten, wie $\\pi$:"
   ]
  },
  {
   "cell_type": "code",
   "execution_count": null,
   "metadata": {
    "colab": {
     "base_uri": "https://localhost:8080/"
    },
    "id": "NSfdTux6bKwr",
    "outputId": "4ac0c611-9593-46f6-f0fd-c5a29e04f0c2"
   },
   "outputs": [],
   "source": [
    "np.cos(np.pi)"
   ]
  },
  {
   "cell_type": "markdown",
   "metadata": {
    "id": "b5YJMXORbPpY"
   },
   "source": [
    "Mit anderen Bibliotheken könnt Ihr u.A. Daten aus dem Internet \"anfordern\" (englisch _(to) request_):"
   ]
  },
  {
   "cell_type": "code",
   "execution_count": null,
   "metadata": {
    "id": "D6nUnyBVbwaX"
   },
   "outputs": [],
   "source": [
    "import requests"
   ]
  },
  {
   "cell_type": "markdown",
   "metadata": {
    "id": "Bpyb8zeWbuVC"
   },
   "source": [
    "Auf eine Anfrage folgt eine Antwort:"
   ]
  },
  {
   "cell_type": "code",
   "execution_count": null,
   "metadata": {
    "id": "79Mlxnh_bqIQ"
   },
   "outputs": [],
   "source": [
    "response = requests.get(\"https://upload.wikimedia.org/wikipedia/commons/f/f8/Python_logo_and_wordmark.svg\")"
   ]
  },
  {
   "cell_type": "markdown",
   "metadata": {
    "id": "QyMG0-eMbnT3"
   },
   "source": [
    "War die Anfrage erfolgreich?"
   ]
  },
  {
   "cell_type": "code",
   "execution_count": null,
   "metadata": {
    "colab": {
     "base_uri": "https://localhost:8080/"
    },
    "id": "rZdp5OH_bkNJ",
    "outputId": "f8619948-ce75-4d78-f0ac-42b3e35c2d98"
   },
   "outputs": [],
   "source": [
    "response.ok # True or False (1 or 0)"
   ]
  },
  {
   "cell_type": "markdown",
   "metadata": {
    "id": "n-IKvObubeG2"
   },
   "source": [
    "Und anzeigen könnt Ihr die in der Antwort enthaltenen Daten bspw. so:"
   ]
  },
  {
   "cell_type": "code",
   "execution_count": null,
   "metadata": {
    "colab": {
     "base_uri": "https://localhost:8080/",
     "height": 174
    },
    "id": "uzICxSribRsJ",
    "outputId": "82a9b693-a933-4a32-87c1-b68b66e72384"
   },
   "outputs": [],
   "source": [
    "from IPython.display import display_svg # import only one function from library\n",
    "display_svg(response.text, raw=True)"
   ]
  },
  {
   "cell_type": "markdown",
   "metadata": {
    "id": "p3bGN-kPb_0M"
   },
   "source": [
    "## Maschinelles Lernen verstehen"
   ]
  },
  {
   "cell_type": "markdown",
   "metadata": {
    "id": "lyR8uKn7d7lB"
   },
   "source": [
    "Stell Dir vor, Du bist eine KI... Du bekommst einen Datensatz mit Schulnoten, die 8 Schüler während eines Schuljahres in den 3 abzulegenden Prüfungen in einem bestimmten Fach erhalten haben:"
   ]
  },
  {
   "cell_type": "code",
   "execution_count": null,
   "metadata": {
    "id": "CsEAh0HzcEAI"
   },
   "outputs": [],
   "source": [
    "exam_marks = np.asarray([\n",
    "    [1, 2, 5],\n",
    "    [4, 3, 2],\n",
    "    [5, 5, 3],\n",
    "    [2, 6, 2],\n",
    "    [3, 1, 1],\n",
    "    [6, 5, 4],\n",
    "    [4, 2, 2],\n",
    "    [2, 4, 6],\n",
    "])"
   ]
  },
  {
   "cell_type": "markdown",
   "metadata": {
    "id": "dbo8LTVve9pS"
   },
   "source": [
    "Dann bekommst Du für jeden Schüler einen Wert, der aussagt, ob er oder sie das Fach bestanden hat: Bestanden = 1, Nicht bestanden = 0"
   ]
  },
  {
   "cell_type": "code",
   "execution_count": null,
   "metadata": {
    "id": "CkcgjKr1aOl0"
   },
   "outputs": [],
   "source": [
    "student_has_passed = np.asarray([1, 1, 0, 1, 1, 0, 1, 1])"
   ]
  },
  {
   "cell_type": "markdown",
   "metadata": {
    "id": "4elYGdEnfqKx"
   },
   "source": [
    "Dir sagen all diese Begriffe wie Schüler, Schule, Noten, Prüfungen und Bestanden überhaupt nichts... Doch das ist dir egal! Du hast Zahlen... Die machen Dich froh!"
   ]
  },
  {
   "cell_type": "markdown",
   "metadata": {
    "id": "DXDk-1Syf07O"
   },
   "source": [
    "Jeder Eintrag im Datensatz hat 3 Werte, die 3 Prüfungsnoten je Schüler. Du gruppierst diese erst einmal zu 3 Zahlenreihen mit jeweils 8 Werten um, denn Dich interessieren keine Schüler... Dich interessieren nur die 3 verschiedenen Gruppen von Werten, also Noten in Prüfung 0, Noten in Prüfung 1 und Noten in Prüfung 2... So kannst Du viel besser mit ihnen rechnen!"
   ]
  },
  {
   "cell_type": "markdown",
   "metadata": {
    "id": "cuhiqQTVhxYB"
   },
   "source": [
    "Dazu musst Du im Datensatz nur aus Zeilen Spalten und aus Spalten Zeilen machen. Das nennt man in der Mathematik Transponieren:"
   ]
  },
  {
   "cell_type": "code",
   "execution_count": null,
   "metadata": {
    "id": "FE4M_ZH0X2Hq"
   },
   "outputs": [],
   "source": [
    "exam0_marks, exam1_marks, exam2_marks = exam_marks.transpose()"
   ]
  },
  {
   "cell_type": "code",
   "execution_count": null,
   "metadata": {
    "colab": {
     "base_uri": "https://localhost:8080/"
    },
    "id": "g9LDLN0giK3S",
    "outputId": "1df10325-6695-4b8a-b0e1-7ac2ec939ef6"
   },
   "outputs": [],
   "source": [
    "exam0_marks"
   ]
  },
  {
   "cell_type": "code",
   "execution_count": null,
   "metadata": {
    "colab": {
     "base_uri": "https://localhost:8080/"
    },
    "id": "iBKXC3peiML4",
    "outputId": "d658e9ac-8982-4316-b5a9-27c0f1811301"
   },
   "outputs": [],
   "source": [
    "exam1_marks"
   ]
  },
  {
   "cell_type": "code",
   "execution_count": null,
   "metadata": {
    "colab": {
     "base_uri": "https://localhost:8080/"
    },
    "id": "tbdeqhu6iOj1",
    "outputId": "5699fbae-38ff-49b8-b2f2-8b3f6d73d2c7"
   },
   "outputs": [],
   "source": [
    "exam2_marks"
   ]
  },
  {
   "cell_type": "markdown",
   "metadata": {
    "id": "khaVQ7pViV6q"
   },
   "source": [
    "Du versuchst erstmal die einfachste mathematische Operation... Du addierst jeweils die 3 Werte:"
   ]
  },
  {
   "cell_type": "code",
   "execution_count": null,
   "metadata": {
    "colab": {
     "base_uri": "https://localhost:8080/"
    },
    "id": "64TAAy4eiU6l",
    "outputId": "7bc9e5f7-b2a9-423f-ee83-0b28f5a2d476"
   },
   "outputs": [],
   "source": [
    "mark_sums = exam0_marks + exam1_marks + exam2_marks\n",
    "mark_sums"
   ]
  },
  {
   "cell_type": "markdown",
   "metadata": {
    "id": "X74SbdnpipUw"
   },
   "source": [
    "Hmm... Weit entfernt von 0 und 1! Aber Du könntest ja mal versuchen, die Werte auf den Bereich von 0 bis 1 zu \"normalisieren\", also den kleinsten Wert auf 0 legen, den größten Wert auf 1 und alle anderen Werte dazwischen... Mit den gleichen Größenverhältnissen wie im Originalergebnis..."
   ]
  },
  {
   "cell_type": "markdown",
   "metadata": {
    "id": "pIRhTpLPk3Zt"
   },
   "source": [
    "Der kleinste Wert ist:"
   ]
  },
  {
   "cell_type": "code",
   "execution_count": null,
   "metadata": {
    "colab": {
     "base_uri": "https://localhost:8080/"
    },
    "id": "BqznkTDRk7Ez",
    "outputId": "f9a5daa7-d424-475e-efc2-025dc7064d9f"
   },
   "outputs": [],
   "source": [
    "np.min(mark_sums)"
   ]
  },
  {
   "cell_type": "markdown",
   "metadata": {
    "id": "vCJcypdsmg0F"
   },
   "source": [
    "Der größte Wert ist:"
   ]
  },
  {
   "cell_type": "code",
   "execution_count": null,
   "metadata": {
    "colab": {
     "base_uri": "https://localhost:8080/"
    },
    "id": "ouTGx1jQmi13",
    "outputId": "9eab1962-d3e3-4bf5-ce96-ff1b0c07abf7"
   },
   "outputs": [],
   "source": [
    "np.max(mark_sums)"
   ]
  },
  {
   "cell_type": "markdown",
   "metadata": {
    "id": "i2h6P-_Orklj"
   },
   "source": [
    "Und die Differenz zwischen größtem und kleinstem Wert ist:"
   ]
  },
  {
   "cell_type": "code",
   "execution_count": null,
   "metadata": {
    "colab": {
     "base_uri": "https://localhost:8080/"
    },
    "id": "uuIVkWYRrx9X",
    "outputId": "1343194e-cd87-4f79-f1dd-e74e8410ff21"
   },
   "outputs": [],
   "source": [
    "np.max(mark_sums) - np.min(mark_sums)"
   ]
  },
  {
   "cell_type": "markdown",
   "metadata": {
    "id": "B1-W3oErmrmX"
   },
   "source": [
    "Also musst Du von allen Werten 5 abziehen und sie danach durch 10 teilen... Und schon liegen sie alle zwischen 0 und 1:"
   ]
  },
  {
   "cell_type": "code",
   "execution_count": null,
   "metadata": {
    "colab": {
     "base_uri": "https://localhost:8080/"
    },
    "id": "d3PQM3NKY_x_",
    "outputId": "98546f25-db46-4a2a-ab2c-ae4b28a1b668"
   },
   "outputs": [],
   "source": [
    "normalized_marks = (exam0_marks + exam1_marks + exam2_marks - 5) / 10\n",
    "normalized_marks"
   ]
  },
  {
   "cell_type": "markdown",
   "metadata": {
    "id": "pYVC79Qbm82g"
   },
   "source": [
    "Und jetzt schaust Du, ob die Werte jeweils näher an der 0 oder and der 1 liegen... D.h. Du rundest:"
   ]
  },
  {
   "cell_type": "code",
   "execution_count": null,
   "metadata": {
    "colab": {
     "base_uri": "https://localhost:8080/"
    },
    "id": "jT0xtDXLZoi0",
    "outputId": "67a3fd13-6cb4-4644-9e29-85f3d2bbe700"
   },
   "outputs": [],
   "source": [
    "rounded_marks = np.round(normalized_marks).astype(int)\n",
    "rounded_marks"
   ]
  },
  {
   "cell_type": "markdown",
   "metadata": {
    "id": "ZGQWnM-Vcm02"
   },
   "source": [
    "Hmm... Das Sieht doch fast in allen Fällen wie das genaue Gegenteil der Lösungen aus:"
   ]
  },
  {
   "cell_type": "code",
   "execution_count": null,
   "metadata": {
    "colab": {
     "base_uri": "https://localhost:8080/"
    },
    "id": "CZpridTYa34G",
    "outputId": "332e7f39-550b-4744-b557-3439a7415ea5"
   },
   "outputs": [],
   "source": [
    "student_has_passed"
   ]
  },
  {
   "cell_type": "markdown",
   "metadata": {
    "id": "ahQYAFSPc8y_"
   },
   "source": [
    "Sehr schön! Du musst also nur die drei Prüfungsnoten addieren, dann 5 abziehen, dann durch 10 dividieren und schließlich das Ergebnis umkehren... Und schon kannst Du in 7 von 8 Fällen, also mit einer Genauigkeit von 87,5%, richtig vorhersagen, ob ein Schüler das Fach bestanden hat... Das reicht Dir erstmal! Oder doch nicht? Hmm..."
   ]
  },
  {
   "cell_type": "markdown",
   "metadata": {
    "id": "1xKeQJFFzvkr"
   },
   "source": [
    "## Chihuahua oder Muffin; das ist die Frage!"
   ]
  },
  {
   "cell_type": "code",
   "execution_count": null,
   "metadata": {
    "id": "uOLTBUCJ9zAJ"
   },
   "outputs": [],
   "source": [
    "import tensorflow as tf\n",
    "from tensorflow import keras"
   ]
  },
  {
   "cell_type": "code",
   "execution_count": null,
   "metadata": {
    "id": "i-DLVB2b_iBM"
   },
   "outputs": [],
   "source": [
    "import matplotlib.pyplot as plt"
   ]
  },
  {
   "cell_type": "code",
   "execution_count": null,
   "metadata": {
    "id": "uSSnPGNbCajB"
   },
   "outputs": [],
   "source": [
    "import PIL\n",
    "from PIL import Image"
   ]
  },
  {
   "cell_type": "code",
   "execution_count": null,
   "metadata": {
    "id": "qzWCHhA-FtIq"
   },
   "outputs": [],
   "source": [
    "from io import BytesIO"
   ]
  },
  {
   "cell_type": "code",
   "execution_count": null,
   "metadata": {
    "id": "g6POlQumEHvq"
   },
   "outputs": [],
   "source": [
    "CHIHUAHUA_MUFFIN_URL = \"https://github.com/ieee8023/deep-learning-datasets/raw/master/chihuahua-muffin\""
   ]
  },
  {
   "cell_type": "code",
   "execution_count": null,
   "metadata": {
    "id": "HzcBTx0JCq4l"
   },
   "outputs": [],
   "source": [
    "def get_image(filename):\n",
    "    response = requests.get(f\"{CHIHUAHUA_MUFFIN_URL}/{filename}\")\n",
    "    if not response.ok:\n",
    "        raise ValueError(f\"Image {filename} not found\")\n",
    "\n",
    "    jpeg_data = response.content\n",
    "    image_input = BytesIO(jpeg_data)\n",
    "    return Image.open(image_input)"
   ]
  },
  {
   "cell_type": "code",
   "execution_count": null,
   "metadata": {
    "id": "yuKBkzCeHNl-"
   },
   "outputs": [],
   "source": [
    "def get_chihuahua(number):\n",
    "    return get_image(f\"chihuahua-{number}.jpg\")"
   ]
  },
  {
   "cell_type": "code",
   "execution_count": null,
   "metadata": {
    "id": "MlIgv3CdIBM2"
   },
   "outputs": [],
   "source": [
    "def get_muffin(number):\n",
    "    return get_image(f\"muffin-{number}.jpeg\")"
   ]
  },
  {
   "cell_type": "code",
   "execution_count": null,
   "metadata": {
    "id": "_wQdOA5cOcVm"
   },
   "outputs": [],
   "source": [
    "CHIHUAHUA_VALUE = 0\n",
    "MUFFIN_VALUE = 1"
   ]
  },
  {
   "cell_type": "code",
   "execution_count": null,
   "metadata": {
    "id": "4Hqwy4n5InMH"
   },
   "outputs": [],
   "source": [
    "def image_to_grayscale_array(image, width, height):\n",
    "    resized_image = image.convert('L').resize((width, height))\n",
    "    return np.asarray(resized_image)"
   ]
  },
  {
   "cell_type": "code",
   "execution_count": null,
   "metadata": {
    "id": "vN_KXb0VYszJ"
   },
   "outputs": [],
   "source": [
    "def display_dataset(image_arrays, classes):\n",
    "    plt.figure(figsize=(10, 10))\n",
    "    for index in range(len(image_arrays)):\n",
    "        plt.subplot(5, 5, index + 1)\n",
    "        plt.xticks([])\n",
    "        plt.yticks([])\n",
    "        plt.grid(False)\n",
    "        plt.imshow(image_arrays[index], cmap=plt.cm.binary)\n",
    "        plt.xlabel(classes[index])"
   ]
  },
  {
   "cell_type": "code",
   "execution_count": null,
   "metadata": {
    "id": "9JH88KiUPHYZ"
   },
   "outputs": [],
   "source": [
    "training_chihuahuas = [get_chihuahua(number) for number in [1, 2, 3, 4, 5]]"
   ]
  },
  {
   "cell_type": "code",
   "execution_count": null,
   "metadata": {
    "id": "IOotyoFSPXfv"
   },
   "outputs": [],
   "source": [
    "training_muffins = [get_muffin(number) for number in [1, 2, 3, 4, 5]]"
   ]
  },
  {
   "cell_type": "code",
   "execution_count": null,
   "metadata": {
    "id": "ngloe5OtPkUH"
   },
   "outputs": [],
   "source": [
    "testing_chihuahuas = [get_chihuahua(number) for number in [6, 7, 8]]"
   ]
  },
  {
   "cell_type": "code",
   "execution_count": null,
   "metadata": {
    "id": "55Y_q1d0Pr03"
   },
   "outputs": [],
   "source": [
    "testing_muffins = [get_muffin(number) for number in [6, 7, 8]]"
   ]
  },
  {
   "cell_type": "code",
   "execution_count": null,
   "metadata": {
    "colab": {
     "base_uri": "https://localhost:8080/"
    },
    "id": "Mkcr2AMCQxxH",
    "outputId": "f596c5f1-f207-43c8-bcdd-bc36dbcb00fb"
   },
   "outputs": [],
   "source": [
    "training_dataset = np.asarray([\n",
    "    image_to_grayscale_array(image, 100, 100)\n",
    "    for image in training_chihuahuas + training_muffins])\n",
    "\n",
    "training_dataset.shape"
   ]
  },
  {
   "cell_type": "code",
   "execution_count": null,
   "metadata": {
    "colab": {
     "base_uri": "https://localhost:8080/"
    },
    "id": "PUEfkUkdR_T-",
    "outputId": "73151af2-e426-4925-f407-c7d9008b92aa"
   },
   "outputs": [],
   "source": [
    "training_solutions = np.asarray(5 * [CHIHUAHUA_VALUE] + 5 * [MUFFIN_VALUE])\n",
    "training_solutions"
   ]
  },
  {
   "cell_type": "code",
   "execution_count": null,
   "metadata": {
    "colab": {
     "base_uri": "https://localhost:8080/",
     "height": 251
    },
    "id": "wlbnAVIlcG9e",
    "outputId": "e1056af5-ec5d-47ff-86d6-d51ea8b055b2"
   },
   "outputs": [],
   "source": [
    "display_dataset(training_dataset, training_solutions)"
   ]
  },
  {
   "cell_type": "code",
   "execution_count": null,
   "metadata": {
    "colab": {
     "base_uri": "https://localhost:8080/"
    },
    "id": "f_VDpPpERk54",
    "outputId": "b616e571-2dab-48b7-a638-0a1383382453"
   },
   "outputs": [],
   "source": [
    "testing_dataset = np.asarray([\n",
    "    image_to_grayscale_array(image, 100, 100)\n",
    "    for image in testing_chihuahuas + testing_muffins])\n",
    "\n",
    "testing_dataset.shape"
   ]
  },
  {
   "cell_type": "code",
   "execution_count": null,
   "metadata": {
    "colab": {
     "base_uri": "https://localhost:8080/"
    },
    "id": "vyyXjLFnTkwT",
    "outputId": "74461ec9-e65d-4d5d-e4ad-64579a6ded07"
   },
   "outputs": [],
   "source": [
    "testing_solutions = np.asarray(3 * [CHIHUAHUA_VALUE] + 3 * [MUFFIN_VALUE])\n",
    "testing_solutions"
   ]
  },
  {
   "cell_type": "code",
   "execution_count": null,
   "metadata": {
    "colab": {
     "base_uri": "https://localhost:8080/",
     "height": 251
    },
    "id": "9KYXtTQcX8Un",
    "outputId": "59c991ee-5c1d-48d7-ca37-8068781c7924"
   },
   "outputs": [],
   "source": [
    "display_dataset(testing_dataset, testing_solutions)"
   ]
  },
  {
   "cell_type": "code",
   "execution_count": null,
   "metadata": {
    "id": "ySJXu0r7Jrw_"
   },
   "outputs": [],
   "source": [
    "model = keras.Sequential([\n",
    "    keras.layers.Flatten(input_shape=(100, 100)),\n",
    "    keras.layers.Dense(128, activation=tf.nn.sigmoid),\n",
    "    keras.layers.Dense(16, activation=tf.nn.sigmoid),\n",
    "    keras.layers.Dense(2, activation=tf.nn.softmax),\n",
    "])"
   ]
  },
  {
   "cell_type": "code",
   "execution_count": null,
   "metadata": {
    "id": "3wFySu_rDhyb"
   },
   "outputs": [],
   "source": [
    "optimizer = keras.optimizers.SGD(\n",
    "    lr=0.01,\n",
    "    decay=1e-5,\n",
    "    momentum=0.7,\n",
    "    nesterov=True)"
   ]
  },
  {
   "cell_type": "code",
   "execution_count": null,
   "metadata": {
    "id": "cFvAmvfHNYRP"
   },
   "outputs": [],
   "source": [
    "model.compile(\n",
    "    optimizer=optimizer,\n",
    "    loss='sparse_categorical_crossentropy',\n",
    "    metrics=['accuracy'])"
   ]
  },
  {
   "cell_type": "code",
   "execution_count": null,
   "metadata": {
    "id": "IkIC_ET4Nz78"
   },
   "outputs": [],
   "source": [
    "model.fit(training_dataset, training_solutions, epochs=100)"
   ]
  },
  {
   "cell_type": "code",
   "execution_count": null,
   "metadata": {
    "colab": {
     "base_uri": "https://localhost:8080/"
    },
    "id": "Cb3UgJ7VE_Li",
    "outputId": "0601f1ff-92f4-4099-f7fe-e5b55b5d7784"
   },
   "outputs": [],
   "source": [
    "model.evaluate(testing_dataset, testing_solutions)"
   ]
  },
  {
   "cell_type": "code",
   "execution_count": null,
   "metadata": {
    "colab": {
     "base_uri": "https://localhost:8080/"
    },
    "id": "Zi8nbyHPNWH9",
    "outputId": "caa7afa9-9837-46c8-b6df-d4c2357e58bb"
   },
   "outputs": [],
   "source": [
    "prediction = model.predict(testing_dataset)\n",
    "prediction"
   ]
  },
  {
   "cell_type": "code",
   "execution_count": null,
   "metadata": {
    "colab": {
     "base_uri": "https://localhost:8080/"
    },
    "id": "tr4FpEAuQuVU",
    "outputId": "4f20a8ca-d5e9-48a8-8e07-c3a7edd5eb6f"
   },
   "outputs": [],
   "source": [
    "predicted_values = np.argmax(prediction, axis=1)\n",
    "predicted_values"
   ]
  },
  {
   "cell_type": "code",
   "execution_count": null,
   "metadata": {
    "colab": {
     "base_uri": "https://localhost:8080/",
     "height": 251
    },
    "id": "gR0N-7XZZFrI",
    "outputId": "793dbb2c-e0a4-4bee-a6bc-dcee5f31039f"
   },
   "outputs": [],
   "source": [
    "display_dataset(testing_dataset, predicted_values)"
   ]
  }
 ],
 "metadata": {
  "colab": {
   "collapsed_sections": [],
   "name": "Girls' Day 2021.ipynb",
   "provenance": []
  },
  "kernelspec": {
   "display_name": "Python 3",
   "language": "python",
   "name": "python3"
  },
  "language_info": {
   "codemirror_mode": {
    "name": "ipython",
    "version": 3
   },
   "file_extension": ".py",
   "mimetype": "text/x-python",
   "name": "python",
   "nbconvert_exporter": "python",
   "pygments_lexer": "ipython3",
   "version": "3.7.10"
  }
 },
 "nbformat": 4,
 "nbformat_minor": 1
}
